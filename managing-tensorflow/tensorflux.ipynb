{
 "cells": [
  {
   "cell_type": "markdown",
   "metadata": {},
   "source": [
    "## Weather Prediction using InfluxDB"
   ]
  },
  {
   "cell_type": "code",
   "execution_count": 1,
   "metadata": {},
   "outputs": [],
   "source": [
    "%matplotlib inline"
   ]
  },
  {
   "cell_type": "code",
   "execution_count": 2,
   "metadata": {},
   "outputs": [],
   "source": [
    "import matplotlib.pyplot as plt\n",
    "import tensorflow as tf\n",
    "import numpy as np\n",
    "\n",
    "from influx import query_batch, convert\n",
    "\n",
    "from tensorflow.python.framework import dtypes\n",
    "from tensorflow.contrib import learn as tflearn\n",
    "from tensorflow.contrib import layers as tflayers\n",
    "\n",
    "from sklearn.metrics import mean_squared_error\n",
    "from sklearn.model_selection import train_test_split"
   ]
  },
  {
   "cell_type": "markdown",
   "metadata": {},
   "source": [
    "Number of hours in the past to predict the next hour's weather"
   ]
  },
  {
   "cell_type": "code",
   "execution_count": 3,
   "metadata": {},
   "outputs": [],
   "source": [
    "HOURS = 48"
   ]
  },
  {
   "cell_type": "markdown",
   "metadata": {},
   "source": [
    "14920 is the LSE airport... nearest airport to me!"
   ]
  },
  {
   "cell_type": "code",
   "execution_count": 4,
   "metadata": {},
   "outputs": [],
   "source": [
    "WBAN = 14920"
   ]
  },
  {
   "cell_type": "code",
   "execution_count": 5,
   "metadata": {},
   "outputs": [],
   "source": [
    "def model(X, y):\n",
    "    basics = [tf.nn.rnn_cell.BasicLSTMCell(5, state_is_tuple=True)]\n",
    "    stacked_lstm = tf.nn.rnn_cell.MultiRNNCell(basics, state_is_tuple=True)\n",
    "    x_ = tf.unstack(X, axis=1, num=HOURS)\n",
    "    output, layers = tf.nn.static_rnn(stacked_lstm, x_, dtype=dtypes.float32)\n",
    "    output = tflayers.stack(output[-1], tflayers.fully_connected, [10, 10])\n",
    "    prediction, loss = tflearn.models.linear_regression(output, y)\n",
    "    train_op = tf.contrib.layers.optimize_loss(\n",
    "                loss, tf.contrib.framework.get_global_step(), optimizer='Adagrad',\n",
    "                learning_rate=0.1)\n",
    "    return prediction, loss, train_op"
   ]
  },
  {
   "cell_type": "code",
   "execution_count": 6,
   "metadata": {},
   "outputs": [],
   "source": [
    "def influx(db, query, column):\n",
    "    # HOURS + 1 is used to grab HOURS and the hour to predict\n",
    "    for res in query_batch(query, limit=HOURS + 1, offset=0, db=db):\n",
    "        for s in convert(res.raw):\n",
    "            v = np.array(s.feature_lists.feature_list[column].feature[0].float_list.value, dtype=np.float32)\n",
    "            data = np.zeros((HOURS,), dtype=np.float32)\n",
    "            data[:v.shape[0]-1] = v[:v.shape[0]-1]\n",
    "            data = np.array(data).reshape([48, -1]) \n",
    "            target = np.array(v[-1])\n",
    "            yield data, target"
   ]
  },
  {
   "cell_type": "code",
   "execution_count": 22,
   "metadata": {},
   "outputs": [
    {
     "name": "stdout",
     "output_type": "stream",
     "text": [
      "INFO:tensorflow:Using default config.\n",
      "WARNING:tensorflow:Using temporary folder as model directory: /var/folders/30/6bs9d95526z96swlr_5xx91h0000gp/T/tmpe70r0an5\n",
      "INFO:tensorflow:Using config: {'_task_type': None, '_task_id': 0, '_cluster_spec': <tensorflow.python.training.server_lib.ClusterSpec object at 0x1a420feac8>, '_master': '', '_num_ps_replicas': 0, '_num_worker_replicas': 0, '_environment': 'local', '_is_chief': True, '_evaluation_master': '', '_train_distribute': None, '_eval_distribute': None, '_device_fn': None, '_tf_config': gpu_options {\n",
      "  per_process_gpu_memory_fraction: 1.0\n",
      "}\n",
      ", '_tf_random_seed': None, '_save_summary_steps': 100, '_save_checkpoints_secs': 600, '_log_step_count_steps': 100, '_protocol': None, '_session_config': None, '_save_checkpoints_steps': None, '_keep_checkpoint_max': 5, '_keep_checkpoint_every_n_hours': 10000, '_model_dir': '/var/folders/30/6bs9d95526z96swlr_5xx91h0000gp/T/tmpe70r0an5'}\n",
      "(22, 48, 1)\n",
      "(22,)\n",
      "INFO:tensorflow:Create CheckpointSaverHook.\n",
      "INFO:tensorflow:Graph was finalized.\n",
      "INFO:tensorflow:Running local_init_op.\n",
      "INFO:tensorflow:Done running local_init_op.\n",
      "INFO:tensorflow:Saving checkpoints for 0 into /var/folders/30/6bs9d95526z96swlr_5xx91h0000gp/T/tmpe70r0an5/model.ckpt.\n",
      "INFO:tensorflow:loss = 848.5206, step = 1\n",
      "INFO:tensorflow:Starting evaluation at 2019-07-01T21:23:58Z\n",
      "INFO:tensorflow:Graph was finalized.\n",
      "INFO:tensorflow:Restoring parameters from /var/folders/30/6bs9d95526z96swlr_5xx91h0000gp/T/tmpe70r0an5/model.ckpt-0\n",
      "INFO:tensorflow:Running local_init_op.\n",
      "INFO:tensorflow:Done running local_init_op.\n",
      "INFO:tensorflow:Finished evaluation at 2019-07-01-21:24:00\n",
      "INFO:tensorflow:Saving dict for global step 0: global_step = 0, loss = 856.4974\n",
      "INFO:tensorflow:Validation (step 100): loss = 856.4974, global_step = 0\n",
      "INFO:tensorflow:global_step/sec: 5.67288\n",
      "INFO:tensorflow:loss = 3.2425325, step = 101 (17.628 sec)\n",
      "INFO:tensorflow:global_step/sec: 50.0698\n",
      "INFO:tensorflow:loss = 0.64560497, step = 201 (1.997 sec)\n",
      "INFO:tensorflow:global_step/sec: 47.0869\n",
      "INFO:tensorflow:loss = 0.5562992, step = 301 (2.124 sec)\n",
      "INFO:tensorflow:global_step/sec: 46.078\n",
      "INFO:tensorflow:loss = 0.48981857, step = 401 (2.170 sec)\n",
      "INFO:tensorflow:global_step/sec: 47.6323\n",
      "INFO:tensorflow:loss = 0.43782085, step = 501 (2.099 sec)\n",
      "INFO:tensorflow:global_step/sec: 35.8841\n",
      "INFO:tensorflow:loss = 0.39556488, step = 601 (2.787 sec)\n",
      "INFO:tensorflow:global_step/sec: 42.5836\n",
      "INFO:tensorflow:loss = 0.36037382, step = 701 (2.348 sec)\n",
      "INFO:tensorflow:global_step/sec: 49.6358\n",
      "INFO:tensorflow:loss = 0.33040053, step = 801 (2.015 sec)\n",
      "INFO:tensorflow:global_step/sec: 50.7553\n",
      "INFO:tensorflow:loss = 0.30441427, step = 901 (1.970 sec)\n",
      "INFO:tensorflow:Saving checkpoints for 1000 into /var/folders/30/6bs9d95526z96swlr_5xx91h0000gp/T/tmpe70r0an5/model.ckpt.\n",
      "INFO:tensorflow:Loss for final step: 0.32650328.\n",
      "INFO:tensorflow:Graph was finalized.\n",
      "INFO:tensorflow:Restoring parameters from /var/folders/30/6bs9d95526z96swlr_5xx91h0000gp/T/tmpe70r0an5/model.ckpt-1000\n",
      "INFO:tensorflow:Running local_init_op.\n",
      "INFO:tensorflow:Done running local_init_op.\n",
      "MSE: 13.979189\n"
     ]
    }
   ],
   "source": [
    "with tf.Session() as sess:\n",
    "    db = \"tensorflowdb\"\n",
    "    query = \"select wet_bulb_temp from qclcd where wban = '{0}' group by wban\".format(WBAN)\n",
    "    column = \"column/wet_bulb_temp\"\n",
    "    regressor = tflearn.SKCompat(tflearn.Estimator(model_fn=model))\n",
    "\n",
    "    X = []\n",
    "    y = []\n",
    "    for x, target in influx(db, query, column):\n",
    "        X.append(x)\n",
    "        y.append(target)\n",
    "\n",
    "    X = np.array(X)\n",
    "    y = np.array(y)\n",
    "    print(X.shape)\n",
    "    print(y.shape)\n",
    "    X_train, X_test, y_train, y_test = train_test_split(X, y, test_size=0.33, random_state=42)\n",
    "    X_train, X_val, y_train, y_val = train_test_split(X_train, y_train, test_size=0.33, random_state=42)\n",
    "    \n",
    "    validation_monitor = tflearn.monitors.ValidationMonitor(X_val, y_val, every_n_steps=100, early_stopping_rounds=100)\n",
    "    regressor.fit(X_train, y_train, monitors=[validation_monitor], batch_size=20, steps=1000)\n",
    "    \n",
    "\n",
    "    predicted = regressor.predict(X_test)\n",
    "    #not used in this example but used for seeing deviations\n",
    "    rmse = np.sqrt(((predicted - y_test) ** 2).mean(axis=0))\n",
    "\n",
    "    score = mean_squared_error(predicted, y_test)\n",
    "    print (\"MSE: %f\" % score)"
   ]
  },
  {
   "cell_type": "code",
   "execution_count": 23,
   "metadata": {},
   "outputs": [
    {
     "data": {
      "image/png": "[encoded data removed]",
      "text/plain": [
       "<Figure size 432x288 with 1 Axes>"
      ]
     },
     "metadata": {
      "needs_background": "light"
     },
     "output_type": "display_data"
    }
   ],
   "source": [
    "fig, ax = plt.subplots(1)\n",
    "fig.autofmt_xdate()\n",
    "\n",
    "plot_predicted, = ax.plot(predicted.flatten(), label='predicted (F)')\n",
    "plot_test, = ax.plot(y_test.flatten(), label='test (F)')\n",
    "\n",
    "plt.title('LSE Weather Predictions')\n",
    "plt.legend(handles=[plot_predicted, plot_test])\n",
    "plt.show()"
   ]
  }
 ],
 "metadata": {
  "anaconda-cloud": {},
  "kernelspec": {
   "display_name": "Python [conda env:tf3]",
   "language": "python",
   "name": "conda-env-tf3-py"
  },
  "language_info": {
   "codemirror_mode": {
    "name": "ipython",
    "version": 3
   },
   "file_extension": ".py",
   "mimetype": "text/x-python",
   "name": "python",
   "nbconvert_exporter": "python",
   "pygments_lexer": "ipython3",
   "version": "3.7.3"
  }
 },
 "nbformat": 4,
 "nbformat_minor": 1
}
